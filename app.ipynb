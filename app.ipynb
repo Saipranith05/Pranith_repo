{
 "cells": [
  {
   "cell_type": "code",
   "execution_count": 2,
   "metadata": {},
   "outputs": [],
   "source": [
    "import pandas as pd"
   ]
  },
  {
   "cell_type": "code",
   "execution_count": 3,
   "metadata": {},
   "outputs": [],
   "source": [
    "df = pd.read_csv(\"online.csv\")"
   ]
  },
  {
   "cell_type": "code",
   "execution_count": 4,
   "metadata": {},
   "outputs": [
    {
     "data": {
      "text/html": [
       "<div>\n",
       "<style scoped>\n",
       "    .dataframe tbody tr th:only-of-type {\n",
       "        vertical-align: middle;\n",
       "    }\n",
       "\n",
       "    .dataframe tbody tr th {\n",
       "        vertical-align: top;\n",
       "    }\n",
       "\n",
       "    .dataframe thead th {\n",
       "        text-align: right;\n",
       "    }\n",
       "</style>\n",
       "<table border=\"1\" class=\"dataframe\">\n",
       "  <thead>\n",
       "    <tr style=\"text-align: right;\">\n",
       "      <th></th>\n",
       "      <th>Unnamed: 0</th>\n",
       "      <th>order_status</th>\n",
       "      <th>Monthly Income</th>\n",
       "      <th>latitude</th>\n",
       "      <th>Marital Status</th>\n",
       "      <th>Gender</th>\n",
       "      <th>employment_status</th>\n",
       "      <th>Family size</th>\n",
       "      <th>Reviews</th>\n",
       "      <th>Pin code</th>\n",
       "      <th>Age</th>\n",
       "      <th>longitude</th>\n",
       "      <th>Educational Qualifications</th>\n",
       "      <th>Unnamed: 13</th>\n",
       "      <th>9</th>\n",
       "      <th>#@%</th>\n",
       "    </tr>\n",
       "  </thead>\n",
       "  <tbody>\n",
       "    <tr>\n",
       "      <th>0</th>\n",
       "      <td>0</td>\n",
       "      <td>Yes</td>\n",
       "      <td>25001 to 50000</td>\n",
       "      <td>13.0262</td>\n",
       "      <td>Married</td>\n",
       "      <td>Male</td>\n",
       "      <td>Employee</td>\n",
       "      <td>5.0</td>\n",
       "      <td>Positive</td>\n",
       "      <td>560045</td>\n",
       "      <td>28.0</td>\n",
       "      <td>77.6200</td>\n",
       "      <td>Post Graduate</td>\n",
       "      <td>Yes</td>\n",
       "      <td>NaN</td>\n",
       "      <td>swiggyscount</td>\n",
       "    </tr>\n",
       "    <tr>\n",
       "      <th>1</th>\n",
       "      <td>1</td>\n",
       "      <td>Yes</td>\n",
       "      <td>No Income</td>\n",
       "      <td>12.9770</td>\n",
       "      <td>Single</td>\n",
       "      <td>Male</td>\n",
       "      <td>Student</td>\n",
       "      <td>NaN</td>\n",
       "      <td>Positive</td>\n",
       "      <td>560009</td>\n",
       "      <td>NaN</td>\n",
       "      <td>77.5773</td>\n",
       "      <td>Post Graduate</td>\n",
       "      <td>Yes</td>\n",
       "      <td>NaN</td>\n",
       "      <td>*7435</td>\n",
       "    </tr>\n",
       "  </tbody>\n",
       "</table>\n",
       "</div>"
      ],
      "text/plain": [
       "   Unnamed: 0 order_status  Monthly Income  latitude Marital Status Gender  \\\n",
       "0           0          Yes  25001 to 50000   13.0262        Married   Male   \n",
       "1           1          Yes       No Income   12.9770         Single   Male   \n",
       "\n",
       "  employment_status  Family size   Reviews  Pin code   Age  longitude  \\\n",
       "0          Employee          5.0  Positive    560045  28.0    77.6200   \n",
       "1           Student          NaN  Positive    560009   NaN    77.5773   \n",
       "\n",
       "  Educational Qualifications Unnamed: 13   9           #@%  \n",
       "0              Post Graduate         Yes NaN  swiggyscount  \n",
       "1              Post Graduate         Yes NaN         *7435  "
      ]
     },
     "execution_count": 4,
     "metadata": {},
     "output_type": "execute_result"
    }
   ],
   "source": [
    "df.head(2)"
   ]
  },
  {
   "cell_type": "code",
   "execution_count": 7,
   "metadata": {},
   "outputs": [],
   "source": [
    "family_mean = int(df[\"Family size\"].mean())"
   ]
  },
  {
   "cell_type": "code",
   "execution_count": null,
   "metadata": {},
   "outputs": [],
   "source": [
    "df[\"Family size\"].fillna(family_mean,in)"
   ]
  }
 ],
 "metadata": {
  "kernelspec": {
   "display_name": "Python 3",
   "language": "python",
   "name": "python3"
  },
  "language_info": {
   "codemirror_mode": {
    "name": "ipython",
    "version": 3
   },
   "file_extension": ".py",
   "mimetype": "text/x-python",
   "name": "python",
   "nbconvert_exporter": "python",
   "pygments_lexer": "ipython3",
   "version": "3.12.5"
  }
 },
 "nbformat": 4,
 "nbformat_minor": 2
}
